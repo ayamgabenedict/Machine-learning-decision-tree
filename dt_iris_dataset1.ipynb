{
  "nbformat": 4,
  "nbformat_minor": 0,
  "metadata": {
    "colab": {
      "provenance": [],
      "authorship_tag": "ABX9TyOTmShRS2FxYdeUs2Iw8a4N",
      "include_colab_link": true
    },
    "kernelspec": {
      "name": "python3",
      "display_name": "Python 3"
    },
    "language_info": {
      "name": "python"
    }
  },
  "cells": [
    {
      "cell_type": "markdown",
      "metadata": {
        "id": "view-in-github",
        "colab_type": "text"
      },
      "source": [
        "<a href=\"https://colab.research.google.com/github/ayamgabenedict/Machine-learning-decision-tree/blob/main/dt_iris_dataset1.ipynb\" target=\"_parent\"><img src=\"https://colab.research.google.com/assets/colab-badge.svg\" alt=\"Open In Colab\"/></a>"
      ]
    },
    {
      "cell_type": "code",
      "execution_count": null,
      "metadata": {
        "colab": {
          "base_uri": "https://localhost:8080/"
        },
        "id": "5B5bLeOt12cL",
        "outputId": "5b15aeca-abf4-4801-9be2-fe4620e653ec"
      },
      "outputs": [
        {
          "output_type": "stream",
          "name": "stdout",
          "text": [
            "Accuracy: 1.0\n",
            "Confusion Matrix:\n",
            " [[10  0  0]\n",
            " [ 0  9  0]\n",
            " [ 0  0 11]]\n",
            "Classification Report:\n",
            "               precision    recall  f1-score   support\n",
            "\n",
            "      setosa       1.00      1.00      1.00        10\n",
            "  versicolor       1.00      1.00      1.00         9\n",
            "   virginica       1.00      1.00      1.00        11\n",
            "\n",
            "    accuracy                           1.00        30\n",
            "   macro avg       1.00      1.00      1.00        30\n",
            "weighted avg       1.00      1.00      1.00        30\n",
            "\n"
          ]
        }
      ],
      "source": [
        "import pandas as pd\n",
        "from sklearn.model_selection import train_test_split\n",
        "from sklearn.tree import DecisionTreeClassifier\n",
        "from sklearn.metrics import accuracy_score, classification_report, confusion_matrix\n",
        "\n",
        "def load_dataset(filename, target_column):\n",
        "    data = pd.read_csv(filename)\n",
        "    X = data.drop(target_column, axis=1)\n",
        "    y = data[target_column]\n",
        "    return X, y\n",
        "\n",
        "def train_decision_tree(X_train, y_train, random_state=42):\n",
        "    clf = DecisionTreeClassifier(random_state=random_state)\n",
        "    clf.fit(X_train, y_train)\n",
        "    return clf\n",
        "\n",
        "def evaluate_classifier(classifier, X_test, y_test):\n",
        "    y_pred = classifier.predict(X_test)\n",
        "    accuracy = accuracy_score(y_test, y_pred)\n",
        "    confusion = confusion_matrix(y_test, y_pred)\n",
        "    classification_rep = classification_report(y_test, y_pred)\n",
        "    return accuracy, confusion, classification_rep\n",
        "\n",
        "if __name__ == \"__main__\":\n",
        "    # Load the dataset\n",
        "    filename = 'iris.csv'  # Replace with your dataset file\n",
        "    target_column = 'species'  # Replace with your target variable\n",
        "    X, y = load_dataset(filename, target_column)\n",
        "\n",
        "    # Split the dataset into training and testing sets\n",
        "    X_train, X_test, y_train, y_test = train_test_split(X, y, test_size=0.2, random_state=42)\n",
        "\n",
        "    # Train a Decision Tree Classifier\n",
        "    clf = train_decision_tree(X_train, y_train)\n",
        "\n",
        "    # Evaluate the classifier\n",
        "    accuracy, confusion, classification_rep = evaluate_classifier(clf, X_test, y_test)\n",
        "\n",
        "    # Display evaluation results\n",
        "    print(\"Accuracy:\", accuracy)\n",
        "    print(\"Confusion Matrix:\\n\", confusion)\n",
        "    print(\"Classification Report:\\n\", classification_rep)\n"
      ]
    }
  ]
}